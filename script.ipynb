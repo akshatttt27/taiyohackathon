{
 "cells": [
  {
   "cell_type": "code",
   "execution_count": 23,
   "id": "e1e7e0ce-c125-47f7-bad5-3fc14ed47d50",
   "metadata": {},
   "outputs": [],
   "source": [
    "import pandas as pd\n",
    "import numpy as np"
   ]
  },
  {
   "cell_type": "code",
   "execution_count": 9,
   "id": "b74dc02c-61f1-4413-ab69-070f63558a1e",
   "metadata": {},
   "outputs": [
    {
     "data": {
      "text/plain": [
       "<bound method NDFrame.head of                 Name Date of Birth  Gender Marital Status  Phone Number  \\\n",
       "0        Mannat Raja    04-07-1993  Female        Married  7.337991e+08   \n",
       "1        Kashvi Bera    25-11-2000  Female        Widowed  3.707545e+09   \n",
       "2       Rasha Bhagat    14-01-1976  Female        Married  6.316296e+08   \n",
       "3       Ritvik Kalla    05-12-2003  Female       Divorced  9.190038e+11   \n",
       "4           Tejas De    14-11-1991  Female         Single  9.135364e+11   \n",
       "...              ...           ...     ...            ...           ...   \n",
       "5100      Pihu Uppal    22-05-1993    Male       Divorced  6.738529e+09   \n",
       "5101  Myra Venkatesh    12-09-1970    Male        Widowed  8.882224e+09   \n",
       "5102     Shayak Rout    29-03-1963  Female        Married  9.194622e+11   \n",
       "5103  Sana Zachariah    25-06-2002    Male        Widowed  9.173145e+11   \n",
       "5104               A           NaN     NaN            NaN           NaN   \n",
       "\n",
       "                  Email Address                          Mailing Address  \\\n",
       "0        mdeshpande@example.org       47/359, Manda Nagar\\nPhusro-351513   \n",
       "1      ganeshvivaan@example.org    06/109\\nKothari Marg, Amritsar 359591   \n",
       "2     neysasankaran@example.com          72/566\\nBava Marg, Ajmer-034063   \n",
       "3        shamikbath@example.org  85/222\\nSheth Road, Secunderabad 193560   \n",
       "4           jivin77@example.com         71/49\\nShukla Road\\nNoida-018208   \n",
       "...                         ...                                      ...   \n",
       "5100      samaira17@example.com        19, Dhillon Street\\nRanchi-830581   \n",
       "5101      wsankaran@example.net              14\\nShah Path, Latur 212670   \n",
       "5102         tkrish@example.com     H.No. 448\\nGanguly Ganj, Gaya 501189   \n",
       "5103     elachander@example.net     H.No. 571, Kanda Zila, Satara-547365   \n",
       "5104                        NaN                                      NaN   \n",
       "\n",
       "     Language Preference Geographical Location  Credit Score  ... Loan Amount  \\\n",
       "0                  Hindi              Rourkela         491.0  ...     34766.0   \n",
       "1                English                 Dewas         601.0  ...     13429.0   \n",
       "2                 Telugu              Guwahati         540.0  ...     54579.0   \n",
       "3                  Hindi              Jabalpur         478.0  ...     79654.0   \n",
       "4                Kannada              Guntakal         589.0  ...     51566.0   \n",
       "...                  ...                   ...           ...  ...         ...   \n",
       "5100            Gujarati               Katihar         702.0  ...     64458.0   \n",
       "5101               Hindi            Jamshedpur         482.0  ...     39734.0   \n",
       "5102              Telugu               Udaipur         801.0  ...     93530.0   \n",
       "5103              Telugu       Tiruchirappalli         570.0  ...     81949.0   \n",
       "5104                 NaN                   NaN           NaN  ...         NaN   \n",
       "\n",
       "      Loan Term  Interest Rate        Loan Purpose       EMI       IP Address  \\\n",
       "0          15.0           0.28   Medical Emergency   2773.61   10.128.115.114   \n",
       "1          13.0           0.18    Wedding Expenses   1144.69    10.171.84.107   \n",
       "2           5.0           0.27      Education Fees  11663.54  192.168.173.109   \n",
       "3           8.0           0.20  Debt Consolidation  10717.90   10.113.171.243   \n",
       "4          11.0           0.27   Medical Emergency   5344.12   172.30.115.105   \n",
       "...         ...            ...                 ...       ...              ...   \n",
       "5100       14.0           0.23   Medical Emergency   5293.18   172.16.196.171   \n",
       "5101        8.0           0.26   Medical Emergency   5463.11  192.168.187.174   \n",
       "5102        7.0           0.27   Medical Emergency  14590.70     10.53.85.163   \n",
       "5103       15.0           0.15  Debt Consolidation   6025.42   10.116.216.180   \n",
       "5104        NaN            NaN                 NaN       NaN              NaN   \n",
       "\n",
       "                   Geolocation  \\\n",
       "0      -71.6020475, -51.892151   \n",
       "1       17.074404, -140.913933   \n",
       "2       -84.417644, -53.833944   \n",
       "3     -22.5478035, -136.499639   \n",
       "4       16.2175855, -52.977905   \n",
       "...                        ...   \n",
       "5100    -50.0698815, -9.882135   \n",
       "5101    86.1737005, -37.589629   \n",
       "5102      5.5168035, 35.713995   \n",
       "5103     -42.478759, 73.737517   \n",
       "5104                       NaN   \n",
       "\n",
       "                                      Repayment History  \\\n",
       "0     [{'Payment Date': datetime.date(2023, 7, 2), '...   \n",
       "1     [{'Payment Date': datetime.date(2023, 7, 3), '...   \n",
       "2     [{'Payment Date': datetime.date(2023, 7, 7), '...   \n",
       "3     [{'Payment Date': datetime.date(2023, 7, 21), ...   \n",
       "4     [{'Payment Date': datetime.date(2023, 7, 19), ...   \n",
       "...                                                 ...   \n",
       "5100  [{'Payment Date': datetime.date(2023, 7, 25), ...   \n",
       "5101  [{'Payment Date': datetime.date(2023, 7, 19), ...   \n",
       "5102  [{'Payment Date': datetime.date(2023, 7, 13), ...   \n",
       "5103  [{'Payment Date': datetime.date(2023, 7, 27), ...   \n",
       "5104                                                NaN   \n",
       "\n",
       "     Days Left to Pay Current EMI  Delayed Payment  \n",
       "0                             6.0              Yes  \n",
       "1                             1.0              Yes  \n",
       "2                             6.0              Yes  \n",
       "3                            11.0              Yes  \n",
       "4                            13.0              Yes  \n",
       "...                           ...              ...  \n",
       "5100                          8.0               No  \n",
       "5101                          8.0               No  \n",
       "5102                          5.0               No  \n",
       "5103                          6.0               No  \n",
       "5104                          NaN              NaN  \n",
       "\n",
       "[5105 rows x 21 columns]>"
      ]
     },
     "execution_count": 9,
     "metadata": {},
     "output_type": "execute_result"
    }
   ],
   "source": [
    "df =pd.read_csv('borrowers_data.csv')\n",
    "\n",
    "df.head"
   ]
  },
  {
   "cell_type": "code",
   "execution_count": 17,
   "id": "6dff8211-1a4a-40c7-9628-2bb4feab253b",
   "metadata": {
    "scrolled": true
   },
   "outputs": [
    {
     "name": "stdout",
     "output_type": "stream",
     "text": [
      "Name                             object\n",
      "Date of Birth                    object\n",
      "Gender                           object\n",
      "Marital Status                   object\n",
      "Phone Number                    float64\n",
      "Email Address                    object\n",
      "Mailing Address                  object\n",
      "Language Preference              object\n",
      "Geographical Location            object\n",
      "Credit Score                    float64\n",
      "Loan Type                        object\n",
      "Loan Amount                     float64\n",
      "Loan Term                       float64\n",
      "Interest Rate                   float64\n",
      "Loan Purpose                     object\n",
      "EMI                             float64\n",
      "IP Address                       object\n",
      "Geolocation                      object\n",
      "Repayment History                object\n",
      "Days Left to Pay Current EMI    float64\n",
      "Delayed Payment                  object\n",
      "dtype: object\n"
     ]
    }
   ],
   "source": [
    "print(df.dtypes)"
   ]
  },
  {
   "cell_type": "code",
   "execution_count": 18,
   "id": "196dab4d-87b3-43dc-b712-d337ebfe1c82",
   "metadata": {},
   "outputs": [
    {
     "name": "stdout",
     "output_type": "stream",
     "text": [
      "['mdeshpande@example.org' 'ganeshvivaan@example.org'\n",
      " 'neysasankaran@example.com' ... 'tkrish@example.com'\n",
      " 'elachander@example.net' nan]\n"
     ]
    }
   ],
   "source": [
    "print(df['Email Address'].unique())"
   ]
  },
  {
   "cell_type": "code",
   "execution_count": 19,
   "id": "88312eaa-de01-4e20-a18e-3141ac40a2ce",
   "metadata": {},
   "outputs": [],
   "source": [
    "def correct_email_domain(email):\n",
    "    if pd.isna(email) or not isinstance(email, str):\n",
    "        return email  # Return the original value if it's not a valid string\n",
    "    try:\n",
    "        username = email.split('@')[0]\n",
    "        return f\"{username}@gmail.com\"\n",
    "    except AttributeError:\n",
    "        print(f\"Error processing email: {email}\")\n",
    "        return email  # Return the original value if there's an error\n",
    "\n"
   ]
  },
  {
   "cell_type": "code",
   "execution_count": 20,
   "id": "479de200-6a5f-40ee-b35f-0174715b90d5",
   "metadata": {},
   "outputs": [
    {
     "data": {
      "text/plain": [
       "<bound method NDFrame.head of                 Name Date of Birth  Gender Marital Status  Phone Number  \\\n",
       "0        Mannat Raja    04-07-1993  Female        Married  7.337991e+08   \n",
       "1        Kashvi Bera    25-11-2000  Female        Widowed  3.707545e+09   \n",
       "2       Rasha Bhagat    14-01-1976  Female        Married  6.316296e+08   \n",
       "3       Ritvik Kalla    05-12-2003  Female       Divorced  9.190038e+11   \n",
       "4           Tejas De    14-11-1991  Female         Single  9.135364e+11   \n",
       "...              ...           ...     ...            ...           ...   \n",
       "5100      Pihu Uppal    22-05-1993    Male       Divorced  6.738529e+09   \n",
       "5101  Myra Venkatesh    12-09-1970    Male        Widowed  8.882224e+09   \n",
       "5102     Shayak Rout    29-03-1963  Female        Married  9.194622e+11   \n",
       "5103  Sana Zachariah    25-06-2002    Male        Widowed  9.173145e+11   \n",
       "5104               A           NaN     NaN            NaN           NaN   \n",
       "\n",
       "                  Email Address                          Mailing Address  \\\n",
       "0        mdeshpande@example.org       47/359, Manda Nagar\\nPhusro-351513   \n",
       "1      ganeshvivaan@example.org    06/109\\nKothari Marg, Amritsar 359591   \n",
       "2     neysasankaran@example.com          72/566\\nBava Marg, Ajmer-034063   \n",
       "3        shamikbath@example.org  85/222\\nSheth Road, Secunderabad 193560   \n",
       "4           jivin77@example.com         71/49\\nShukla Road\\nNoida-018208   \n",
       "...                         ...                                      ...   \n",
       "5100      samaira17@example.com        19, Dhillon Street\\nRanchi-830581   \n",
       "5101      wsankaran@example.net              14\\nShah Path, Latur 212670   \n",
       "5102         tkrish@example.com     H.No. 448\\nGanguly Ganj, Gaya 501189   \n",
       "5103     elachander@example.net     H.No. 571, Kanda Zila, Satara-547365   \n",
       "5104                        NaN                                      NaN   \n",
       "\n",
       "     Language Preference Geographical Location  Credit Score  ... Loan Amount  \\\n",
       "0                  Hindi              Rourkela         491.0  ...     34766.0   \n",
       "1                English                 Dewas         601.0  ...     13429.0   \n",
       "2                 Telugu              Guwahati         540.0  ...     54579.0   \n",
       "3                  Hindi              Jabalpur         478.0  ...     79654.0   \n",
       "4                Kannada              Guntakal         589.0  ...     51566.0   \n",
       "...                  ...                   ...           ...  ...         ...   \n",
       "5100            Gujarati               Katihar         702.0  ...     64458.0   \n",
       "5101               Hindi            Jamshedpur         482.0  ...     39734.0   \n",
       "5102              Telugu               Udaipur         801.0  ...     93530.0   \n",
       "5103              Telugu       Tiruchirappalli         570.0  ...     81949.0   \n",
       "5104                 NaN                   NaN           NaN  ...         NaN   \n",
       "\n",
       "      Loan Term  Interest Rate        Loan Purpose       EMI       IP Address  \\\n",
       "0          15.0           0.28   Medical Emergency   2773.61   10.128.115.114   \n",
       "1          13.0           0.18    Wedding Expenses   1144.69    10.171.84.107   \n",
       "2           5.0           0.27      Education Fees  11663.54  192.168.173.109   \n",
       "3           8.0           0.20  Debt Consolidation  10717.90   10.113.171.243   \n",
       "4          11.0           0.27   Medical Emergency   5344.12   172.30.115.105   \n",
       "...         ...            ...                 ...       ...              ...   \n",
       "5100       14.0           0.23   Medical Emergency   5293.18   172.16.196.171   \n",
       "5101        8.0           0.26   Medical Emergency   5463.11  192.168.187.174   \n",
       "5102        7.0           0.27   Medical Emergency  14590.70     10.53.85.163   \n",
       "5103       15.0           0.15  Debt Consolidation   6025.42   10.116.216.180   \n",
       "5104        NaN            NaN                 NaN       NaN              NaN   \n",
       "\n",
       "                   Geolocation  \\\n",
       "0      -71.6020475, -51.892151   \n",
       "1       17.074404, -140.913933   \n",
       "2       -84.417644, -53.833944   \n",
       "3     -22.5478035, -136.499639   \n",
       "4       16.2175855, -52.977905   \n",
       "...                        ...   \n",
       "5100    -50.0698815, -9.882135   \n",
       "5101    86.1737005, -37.589629   \n",
       "5102      5.5168035, 35.713995   \n",
       "5103     -42.478759, 73.737517   \n",
       "5104                       NaN   \n",
       "\n",
       "                                      Repayment History  \\\n",
       "0     [{'Payment Date': datetime.date(2023, 7, 2), '...   \n",
       "1     [{'Payment Date': datetime.date(2023, 7, 3), '...   \n",
       "2     [{'Payment Date': datetime.date(2023, 7, 7), '...   \n",
       "3     [{'Payment Date': datetime.date(2023, 7, 21), ...   \n",
       "4     [{'Payment Date': datetime.date(2023, 7, 19), ...   \n",
       "...                                                 ...   \n",
       "5100  [{'Payment Date': datetime.date(2023, 7, 25), ...   \n",
       "5101  [{'Payment Date': datetime.date(2023, 7, 19), ...   \n",
       "5102  [{'Payment Date': datetime.date(2023, 7, 13), ...   \n",
       "5103  [{'Payment Date': datetime.date(2023, 7, 27), ...   \n",
       "5104                                                NaN   \n",
       "\n",
       "     Days Left to Pay Current EMI  Delayed Payment  \n",
       "0                             6.0              Yes  \n",
       "1                             1.0              Yes  \n",
       "2                             6.0              Yes  \n",
       "3                            11.0              Yes  \n",
       "4                            13.0              Yes  \n",
       "...                           ...              ...  \n",
       "5100                          8.0               No  \n",
       "5101                          8.0               No  \n",
       "5102                          5.0               No  \n",
       "5103                          6.0               No  \n",
       "5104                          NaN              NaN  \n",
       "\n",
       "[5105 rows x 21 columns]>"
      ]
     },
     "execution_count": 20,
     "metadata": {},
     "output_type": "execute_result"
    }
   ],
   "source": [
    "df.head"
   ]
  },
  {
   "cell_type": "code",
   "execution_count": 24,
   "id": "bc379676-e9c9-4f30-a37a-af5e61eb6859",
   "metadata": {},
   "outputs": [
    {
     "name": "stdout",
     "output_type": "stream",
     "text": [
      "Original: test@example.com, Corrected: test@gmail.com\n",
      "Original: nan, Corrected: nan\n",
      "Original: 123, Corrected: 123\n",
      "Original: invalid_email, Corrected: invalid_email@gmail.com\n",
      "Original: another@test.org, Corrected: another@gmail.com\n"
     ]
    }
   ],
   "source": [
    "# Test the function\n",
    "test_emails = ['test@example.com', np.nan, 123, 'invalid_email', 'another@test.org']\n",
    "for email in test_emails:\n",
    "    print(f\"Original: {email}, Corrected: {correct_email_domain(email)}\")\n",
    "\n"
   ]
  },
  {
   "cell_type": "code",
   "execution_count": 25,
   "id": "08e45ca0-eeaa-41dd-bda6-593eafd580cd",
   "metadata": {},
   "outputs": [],
   "source": [
    "df['Corrected Email'] = df['Email Address'].apply(correct_email_domain)\n",
    "\n"
   ]
  },
  {
   "cell_type": "code",
   "execution_count": 26,
   "id": "dee5f18a-a67e-42f7-86fd-5e99d9299443",
   "metadata": {},
   "outputs": [
    {
     "name": "stdout",
     "output_type": "stream",
     "text": [
      "               Email Address          Corrected Email\n",
      "0     mdeshpande@example.org     mdeshpande@gmail.com\n",
      "1   ganeshvivaan@example.org   ganeshvivaan@gmail.com\n",
      "2  neysasankaran@example.com  neysasankaran@gmail.com\n",
      "3     shamikbath@example.org     shamikbath@gmail.com\n",
      "4        jivin77@example.com        jivin77@gmail.com\n",
      "5        udoctor@example.org        udoctor@gmail.com\n",
      "6      nirvideep@example.net      nirvideep@gmail.com\n",
      "7    buchyakshit@example.org    buchyakshit@gmail.com\n",
      "8         xdubey@example.com         xdubey@gmail.com\n",
      "9      indrans30@example.com      indrans30@gmail.com\n"
     ]
    }
   ],
   "source": [
    "#Q2\n",
    "\n",
    "\n",
    "# Display the results\n",
    "print(df[['Email Address', 'Corrected Email']].head(10))"
   ]
  },
  {
   "cell_type": "code",
   "execution_count": 27,
   "id": "82af502c-2f12-4046-a927-d084fc7a68b1",
   "metadata": {},
   "outputs": [],
   "source": [
    "import re"
   ]
  },
  {
   "cell_type": "code",
   "execution_count": 28,
   "id": "07620b82-93e4-401f-82f5-ffeeec98a60b",
   "metadata": {},
   "outputs": [],
   "source": [
    "def standardize_phone(phone):\n",
    "    if pd.isna(phone):\n",
    "        return phone  # Return NaN for missing values\n",
    "    \n",
    "    phone_str = str(phone)  # Convert to string in case it's a number\n",
    "    digits = re.sub(r'\\D', '', phone_str)\n",
    "    \n",
    "    if digits.startswith('91'):\n",
    "        digits = digits[2:]\n",
    "    \n",
    "    digits = digits[:10].ljust(10, '0')\n",
    "    return f\"+91{digits}\"\n"
   ]
  },
  {
   "cell_type": "code",
   "execution_count": 29,
   "id": "d2857940-c253-4a77-bd5b-8c9e2b97cb9e",
   "metadata": {},
   "outputs": [
    {
     "name": "stdout",
     "output_type": "stream",
     "text": [
      "Original: 1234567890, Standardized: +911234567890\n",
      "Original: 9876543210, Standardized: +919876543210\n",
      "Original: +919999999999, Standardized: +919999999999\n",
      "Original: nan, Standardized: nan\n",
      "Original: 123, Standardized: +911230000000\n",
      "Original: 91876543210, Standardized: +918765432100\n"
     ]
    }
   ],
   "source": [
    "# Test the function\n",
    "test_phones = [1234567890, '9876543210', '+919999999999', np.nan, '123', '91876543210']\n",
    "for phone in test_phones:\n",
    "    print(f\"Original: {phone}, Standardized: {standardize_phone(phone)}\")\n",
    "\n"
   ]
  },
  {
   "cell_type": "code",
   "execution_count": 30,
   "id": "7740d10b-aa76-4990-9410-4960f7c7d2d6",
   "metadata": {},
   "outputs": [],
   "source": [
    "# Apply the function to the dataframe\n",
    "df['Standardized Phone'] = df['Phone Number'].apply(standardize_phone)\n"
   ]
  },
  {
   "cell_type": "code",
   "execution_count": 31,
   "id": "a6aafcae-4cd2-4e10-bc64-55bf5114ac9f",
   "metadata": {},
   "outputs": [
    {
     "name": "stdout",
     "output_type": "stream",
     "text": [
      "   Phone Number Standardized Phone\n",
      "0  7.337991e+08      +917337990570\n",
      "1  3.707545e+09      +913707544917\n",
      "2  6.316296e+08      +916316296250\n",
      "3  9.190038e+11      +919003762470\n",
      "4  9.135364e+11      +913536405926\n",
      "5  9.191437e+11      +919143695467\n",
      "6  4.126002e+08      +914126002140\n",
      "7  2.950775e+09      +912950774682\n",
      "8  9.138888e+11      +913888823255\n",
      "9  8.615437e+09      +918615437299\n"
     ]
    }
   ],
   "source": [
    "#Q3\n",
    "\n",
    "# Display the results\n",
    "print(df[['Phone Number', 'Standardized Phone']].head(10))"
   ]
  },
  {
   "cell_type": "code",
   "execution_count": 32,
   "id": "e9d2fb35-c86c-4b2a-810d-e211be3c1985",
   "metadata": {},
   "outputs": [],
   "source": [
    "# Set a random seed for reproducibility\n",
    "np.random.seed(42)\n",
    "\n"
   ]
  },
  {
   "cell_type": "code",
   "execution_count": 33,
   "id": "b272ff6a-6cf6-4132-a6d1-c05defe5a43c",
   "metadata": {},
   "outputs": [],
   "source": [
    "# Add Income Level (IL) column\n",
    "df['Income Level (IL)'] = np.random.choice(['low', 'medium', 'high'], size=len(df))\n"
   ]
  },
  {
   "cell_type": "code",
   "execution_count": 34,
   "id": "e34dd2d5-bac5-496b-9bac-c93ec1794db4",
   "metadata": {},
   "outputs": [],
   "source": [
    "# Add Financial Status (FS) column\n",
    "df['Financial Status (FS)'] = np.random.choice(['stable', 'semi-stable', 'unstable'], size=len(df))\n",
    "\n"
   ]
  },
  {
   "cell_type": "code",
   "execution_count": 35,
   "id": "4e1ac99e-7c37-4600-9c20-353bf6855acf",
   "metadata": {},
   "outputs": [
    {
     "name": "stdout",
     "output_type": "stream",
     "text": [
      "  Income Level (IL) Financial Status (FS)\n",
      "0              high           semi-stable\n",
      "1               low              unstable\n",
      "2              high              unstable\n",
      "3              high                stable\n",
      "4               low              unstable\n",
      "5               low              unstable\n",
      "6              high                stable\n",
      "7            medium           semi-stable\n",
      "8              high              unstable\n",
      "9              high                stable\n"
     ]
    }
   ],
   "source": [
    "#Q4 \n",
    "# Display the results\n",
    "print(df[['Income Level (IL)', 'Financial Status (FS)']].head(10))"
   ]
  },
  {
   "cell_type": "code",
   "execution_count": 4,
   "id": "82408e5f-54d4-4461-a281-d8cbf256718d",
   "metadata": {},
   "outputs": [
    {
     "name": "stdout",
     "output_type": "stream",
     "text": [
      "Collecting matplotlib\n",
      "  Downloading matplotlib-3.9.1-cp312-cp312-win_amd64.whl.metadata (11 kB)\n",
      "Collecting contourpy>=1.0.1 (from matplotlib)\n",
      "  Downloading contourpy-1.2.1-cp312-cp312-win_amd64.whl.metadata (5.8 kB)\n",
      "Collecting cycler>=0.10 (from matplotlib)\n",
      "  Downloading cycler-0.12.1-py3-none-any.whl.metadata (3.8 kB)\n",
      "Collecting fonttools>=4.22.0 (from matplotlib)\n",
      "  Downloading fonttools-4.53.1-cp312-cp312-win_amd64.whl.metadata (165 kB)\n",
      "     ---------------------------------------- 0.0/165.9 kB ? eta -:--:--\n",
      "     -- ------------------------------------- 10.2/165.9 kB ? eta -:--:--\n",
      "     ------------- ----------------------- 61.4/165.9 kB 648.1 kB/s eta 0:00:01\n",
      "     ------------------------------- ---- 143.4/165.9 kB 944.1 kB/s eta 0:00:01\n",
      "     ------------------------------------ 165.9/165.9 kB 991.6 kB/s eta 0:00:00\n",
      "Collecting kiwisolver>=1.3.1 (from matplotlib)\n",
      "  Downloading kiwisolver-1.4.5-cp312-cp312-win_amd64.whl.metadata (6.5 kB)\n",
      "Requirement already satisfied: numpy>=1.23 in c:\\users\\aksha\\appdata\\local\\programs\\python\\python312\\lib\\site-packages (from matplotlib) (2.0.0)\n",
      "Requirement already satisfied: packaging>=20.0 in c:\\users\\aksha\\appdata\\roaming\\python\\python312\\site-packages (from matplotlib) (24.1)\n",
      "Collecting pillow>=8 (from matplotlib)\n",
      "  Downloading pillow-10.4.0-cp312-cp312-win_amd64.whl.metadata (9.3 kB)\n",
      "Collecting pyparsing>=2.3.1 (from matplotlib)\n",
      "  Downloading pyparsing-3.1.2-py3-none-any.whl.metadata (5.1 kB)\n",
      "Requirement already satisfied: python-dateutil>=2.7 in c:\\users\\aksha\\appdata\\roaming\\python\\python312\\site-packages (from matplotlib) (2.9.0.post0)\n",
      "Requirement already satisfied: six>=1.5 in c:\\users\\aksha\\appdata\\roaming\\python\\python312\\site-packages (from python-dateutil>=2.7->matplotlib) (1.16.0)\n",
      "Downloading matplotlib-3.9.1-cp312-cp312-win_amd64.whl (8.0 MB)\n",
      "   ---------------------------------------- 0.0/8.0 MB ? eta -:--:--\n",
      "   - -------------------------------------- 0.2/8.0 MB 4.6 MB/s eta 0:00:02\n",
      "   -- ------------------------------------- 0.5/8.0 MB 5.3 MB/s eta 0:00:02\n",
      "   --- ------------------------------------ 0.8/8.0 MB 5.3 MB/s eta 0:00:02\n",
      "   ----- ---------------------------------- 1.1/8.0 MB 5.9 MB/s eta 0:00:02\n",
      "   ------- -------------------------------- 1.5/8.0 MB 6.2 MB/s eta 0:00:02\n",
      "   -------- ------------------------------- 1.7/8.0 MB 6.0 MB/s eta 0:00:02\n",
      "   ---------- ----------------------------- 2.1/8.0 MB 6.3 MB/s eta 0:00:01\n",
      "   ------------ --------------------------- 2.4/8.0 MB 6.4 MB/s eta 0:00:01\n",
      "   -------------- ------------------------- 2.8/8.0 MB 6.6 MB/s eta 0:00:01\n",
      "   --------------- ------------------------ 3.1/8.0 MB 6.5 MB/s eta 0:00:01\n",
      "   ----------------- ---------------------- 3.5/8.0 MB 6.8 MB/s eta 0:00:01\n",
      "   ------------------- -------------------- 3.9/8.0 MB 6.9 MB/s eta 0:00:01\n",
      "   --------------------- ------------------ 4.3/8.0 MB 7.0 MB/s eta 0:00:01\n",
      "   ----------------------- ---------------- 4.6/8.0 MB 7.1 MB/s eta 0:00:01\n",
      "   ------------------------- -------------- 5.1/8.0 MB 7.2 MB/s eta 0:00:01\n",
      "   --------------------------- ------------ 5.5/8.0 MB 7.3 MB/s eta 0:00:01\n",
      "   ----------------------------- ---------- 5.9/8.0 MB 7.4 MB/s eta 0:00:01\n",
      "   -------------------------------- ------- 6.5/8.0 MB 7.6 MB/s eta 0:00:01\n",
      "   ---------------------------------- ----- 6.8/8.0 MB 7.6 MB/s eta 0:00:01\n",
      "   ------------------------------------- -- 7.4/8.0 MB 8.0 MB/s eta 0:00:01\n",
      "   ---------------------------------------  7.8/8.0 MB 8.1 MB/s eta 0:00:01\n",
      "   ---------------------------------------- 8.0/8.0 MB 7.8 MB/s eta 0:00:00\n",
      "Downloading contourpy-1.2.1-cp312-cp312-win_amd64.whl (189 kB)\n",
      "   ---------------------------------------- 0.0/189.9 kB ? eta -:--:--\n",
      "   --------------------------------------- 189.9/189.9 kB 11.2 MB/s eta 0:00:00\n",
      "Downloading cycler-0.12.1-py3-none-any.whl (8.3 kB)\n",
      "Downloading fonttools-4.53.1-cp312-cp312-win_amd64.whl (2.2 MB)\n",
      "   ---------------------------------------- 0.0/2.2 MB ? eta -:--:--\n",
      "   --------- ------------------------------ 0.5/2.2 MB 16.2 MB/s eta 0:00:01\n",
      "   ----------------- ---------------------- 1.0/2.2 MB 12.1 MB/s eta 0:00:01\n",
      "   -------------------------- ------------- 1.4/2.2 MB 11.5 MB/s eta 0:00:01\n",
      "   ---------------------------------------  2.2/2.2 MB 12.6 MB/s eta 0:00:01\n",
      "   ---------------------------------------- 2.2/2.2 MB 10.8 MB/s eta 0:00:00\n",
      "Downloading kiwisolver-1.4.5-cp312-cp312-win_amd64.whl (56 kB)\n",
      "   ---------------------------------------- 0.0/56.0 kB ? eta -:--:--\n",
      "   ---------------------------------------- 56.0/56.0 kB 3.1 MB/s eta 0:00:00\n",
      "Downloading pillow-10.4.0-cp312-cp312-win_amd64.whl (2.6 MB)\n",
      "   ---------------------------------------- 0.0/2.6 MB ? eta -:--:--\n",
      "   ------------- -------------------------- 0.8/2.6 MB 17.9 MB/s eta 0:00:01\n",
      "   ----------------------- ---------------- 1.5/2.6 MB 15.8 MB/s eta 0:00:01\n",
      "   -------------------------------- ------- 2.1/2.6 MB 14.5 MB/s eta 0:00:01\n",
      "   ---------------------------------------  2.5/2.6 MB 13.5 MB/s eta 0:00:01\n",
      "   ---------------------------------------- 2.6/2.6 MB 12.5 MB/s eta 0:00:00\n",
      "Downloading pyparsing-3.1.2-py3-none-any.whl (103 kB)\n",
      "   ---------------------------------------- 0.0/103.2 kB ? eta -:--:--\n",
      "   ---------------------------------------- 103.2/103.2 kB 5.8 MB/s eta 0:00:00\n",
      "Installing collected packages: pyparsing, pillow, kiwisolver, fonttools, cycler, contourpy, matplotlib\n",
      "Successfully installed contourpy-1.2.1 cycler-0.12.1 fonttools-4.53.1 kiwisolver-1.4.5 matplotlib-3.9.1 pillow-10.4.0 pyparsing-3.1.2\n",
      "Note: you may need to restart the kernel to use updated packages.\n"
     ]
    },
    {
     "name": "stderr",
     "output_type": "stream",
     "text": [
      "\n",
      "[notice] A new release of pip is available: 24.0 -> 24.1.2\n",
      "[notice] To update, run: python.exe -m pip install --upgrade pip\n"
     ]
    }
   ],
   "source": [
    "pip install matplotlib"
   ]
  },
  {
   "cell_type": "code",
   "execution_count": 5,
   "id": "332b737f-8f31-4938-934e-0573d99cf6e4",
   "metadata": {},
   "outputs": [
    {
     "ename": "ModuleNotFoundError",
     "evalue": "No module named 'seaborn'",
     "output_type": "error",
     "traceback": [
      "\u001b[1;31m---------------------------------------------------------------------------\u001b[0m",
      "\u001b[1;31mModuleNotFoundError\u001b[0m                       Traceback (most recent call last)",
      "Cell \u001b[1;32mIn[5], line 3\u001b[0m\n\u001b[0;32m      1\u001b[0m \u001b[38;5;28;01mimport\u001b[39;00m \u001b[38;5;21;01mpandas\u001b[39;00m \u001b[38;5;28;01mas\u001b[39;00m \u001b[38;5;21;01mpd\u001b[39;00m\n\u001b[0;32m      2\u001b[0m \u001b[38;5;28;01mimport\u001b[39;00m \u001b[38;5;21;01mmatplotlib\u001b[39;00m\u001b[38;5;21;01m.\u001b[39;00m\u001b[38;5;21;01mpyplot\u001b[39;00m \u001b[38;5;28;01mas\u001b[39;00m \u001b[38;5;21;01mplt\u001b[39;00m\n\u001b[1;32m----> 3\u001b[0m \u001b[38;5;28;01mimport\u001b[39;00m \u001b[38;5;21;01mseaborn\u001b[39;00m \u001b[38;5;28;01mas\u001b[39;00m \u001b[38;5;21;01msns\u001b[39;00m\n\u001b[0;32m      4\u001b[0m \u001b[38;5;28;01mfrom\u001b[39;00m \u001b[38;5;21;01mdatetime\u001b[39;00m \u001b[38;5;28;01mimport\u001b[39;00m datetime\n\u001b[0;32m      5\u001b[0m \u001b[38;5;28;01mfrom\u001b[39;00m \u001b[38;5;21;01mdateutil\u001b[39;00m\u001b[38;5;21;01m.\u001b[39;00m\u001b[38;5;21;01mrelativedelta\u001b[39;00m \u001b[38;5;28;01mimport\u001b[39;00m relativedelta\n",
      "\u001b[1;31mModuleNotFoundError\u001b[0m: No module named 'seaborn'"
     ]
    }
   ],
   "source": [
    "import pandas as pd\n",
    "import matplotlib.pyplot as plt\n",
    "import seaborn as sns\n",
    "from datetime import datetime\n",
    "from dateutil.relativedelta import relativedelta\n",
    "\n"
   ]
  },
  {
   "cell_type": "code",
   "execution_count": null,
   "id": "69112776-7c84-4c4a-84f7-01d42b541391",
   "metadata": {},
   "outputs": [],
   "source": [
    "def calculate_risk_score(row):\n",
    "    # Payment History (PH) - 30%\n",
    "    # Assuming 'Delayed Payment' column exists and contains 'Yes' or 'No'\n",
    "    ph_score = 100 if row['Delayed Payment'] != 'Yes' else 50\n",
    "    # Outstanding Debt Amount (ODA) - 20%\n",
    "    # Assuming max loan amount is 100,000 for normalization\n",
    "    oda_score = 100 - (row['Loan Amount'] / 100000 * 100)\n",
    "    oda_score = max(0, min(oda_score, 100))\n",
    "     # Income Level (IL) - 20%\n",
    "    il_score = {'low': 33, 'medium': 66, 'high': 100}[row['Income Level (IL)']]\n",
    "    \n",
    "    # Employment Status (ES) - 15%\n",
    "    # Using Financial Status as a proxy for Employment Status\n",
    "    es_score = {'unstable': 33, 'semi-stable': 66, 'stable': 100}[row['Financial Status (FS)']]\n",
    "\n",
    "    \n",
    "    # Credit Score (CS) - 15%\n",
    "    # Assuming Credit Score is out of 1000\n",
    "    cs_score = row['Credit Score'] / 10\n",
    "    \n",
    "    # Calculate weighted score\n",
    "    risk_score = (\n",
    "        0.30 * ph_score +\n",
    "        0.20 * oda_score +\n",
    "        0.20 * il_score +\n",
    "        0.15 * es_score +\n",
    "        0.15 * cs_score\n",
    "    )\n",
    "    \n",
    "    return risk_score\n",
    "\n",
    "     # Apply the risk score calculation to each row\n",
    "df['Risk Score'] = df.apply(calculate_risk_score, axis=1)\n",
    "\n",
    "    # Rank borrowers based on risk score (lower score = higher risk)\n",
    "df['Risk Rank'] = df['Risk Score'].rank(ascending=True, method='dense')\n",
    "\n",
    "# Display the top 10 highest risk borrowers\n",
    "print(\"Top 10 Highest Risk Borrowers:\")\n",
    "print(df.sort_values('Risk Score').head(10)[['Name', 'Risk Score', 'Risk Rank']])\n",
    "\n",
    "# Display summary statistics of the risk scores\n",
    "print(\"\\nRisk Score Summary Statistics:\")\n",
    "print(df['Risk Score'].describe())\n",
    "\n",
    "# Visualize the distribution of risk scores\n",
    "plt.figure(figsize=(10, 6))\n",
    "sns.histplot(df['Risk Score'], bins=20, kde=True)\n",
    "plt.title('Distribution of Risk Scores')\n",
    "plt.xlabel('Risk Score')\n",
    "plt.ylabel('Count')\n",
    "plt.savefig('risk_score_distribution.png')\n",
    "plt.show()\n",
    "    \n"
   ]
  },
  {
   "cell_type": "code",
   "execution_count": null,
   "id": "e4e88a5f-0553-4fde-b28c-ee3cbe63679d",
   "metadata": {},
   "outputs": [],
   "source": [
    "# Assuming df is your DataFrame with the data\n",
    "\n",
    "# Convert 'Date of Birth' to datetime, specifying the format\n",
    "df['Date of Birth'] = pd.to_datetime(df['Date of Birth'], format='%d-%m-%Y', errors='coerce')\n",
    "\n",
    "# Calculate age\n",
    "current_date = pd.Timestamp.now()\n",
    "\n",
    "def calculate_age(born):\n",
    "    if pd.isnull(born):\n",
    "        return None\n",
    "    try:\n",
    "        return relativedelta(current_date, born).years\n",
    "    except ValueError as e:\n",
    "        print(f\"Error calculating age for date: {born}. Error: {e}\")\n",
    "        return None\n",
    "\n",
    "df['Age'] = df['Date of Birth'].apply(calculate_age)\n",
    "\n",
    "# Print rows where age calculation failed\n",
    "print(\"Rows where age calculation failed:\")\n",
    "print(df[df['Age'].isnull()][['Date of Birth', 'Age']])\n",
    "\n",
    "# Remove rows with null ages for visualization\n",
    "df_vis = df.dropna(subset=['Age'])\n",
    "\n",
    "# Set up the matplotlib figure\n",
    "plt.figure(figsize=(20, 15))\n",
    "# Age distribution\n",
    "plt.subplot(2, 3, 1)\n",
    "sns.histplot(df_vis['Age'], bins=20, kde=True)\n",
    "plt.title('Age Distribution')\n",
    "plt.xlabel('Age')\n",
    "plt.ylabel('Count')\n",
    "\n",
    "# Gender distribution\n",
    "plt.subplot(2, 3, 2)\n",
    "df_vis['Gender'].value_counts().plot(kind='pie', autopct='%1.1f%%')\n",
    "plt.title('Gender Distribution')\n",
    "plt.ylabel('')\n",
    "\n",
    "# Marital Status distribution\n",
    "plt.subplot(2, 3, 3)\n",
    "sns.countplot(y='Marital Status', data=df_vis)\n",
    "plt.title('Marital Status Distribution')\n",
    "plt.xlabel('Count')\n",
    "\n",
    "# Language Preference distribution\n",
    "plt.subplot(2, 3, 4)\n",
    "sns.countplot(y='Language Preference', data=df_vis, order=df_vis['Language Preference'].value_counts().index)\n",
    "plt.title('Language Preference Distribution')\n",
    "plt.xlabel('Count')\n",
    "\n",
    "# Loan Type distribution\n",
    "plt.subplot(2, 3, 5)\n",
    "sns.countplot(y='Loan Type', data=df_vis, order=df_vis['Loan Type'].value_counts().index)\n",
    "plt.title('Loan Type Distribution')\n",
    "plt.xlabel('Count')\n",
    "\n",
    "# Credit Score distribution\n",
    "plt.subplot(2, 3, 6)\n",
    "sns.histplot(df_vis['Credit Score'], bins=20, kde=True)\n",
    "plt.title('Credit Score Distribution')\n",
    "plt.xlabel('Credit Score')\n",
    "plt.ylabel('Count')\n",
    "\n",
    "plt.tight_layout()\n",
    "plt.savefig('borrower_visualizations.png')\n",
    "plt.show()\n",
    "\n",
    "\n",
    "# Print some age statistics to verify\n",
    "print(df_vis['Age'].describe())\n"
   ]
  },
  {
   "cell_type": "code",
   "execution_count": 10,
   "id": "5c27d8f6-7662-495d-b9aa-eee963f7153d",
   "metadata": {},
   "outputs": [
    {
     "ename": "FileNotFoundError",
     "evalue": "[Errno 2] No such file or directory: 'borrower_data.csv'",
     "output_type": "error",
     "traceback": [
      "\u001b[1;31m---------------------------------------------------------------------------\u001b[0m",
      "\u001b[1;31mFileNotFoundError\u001b[0m                         Traceback (most recent call last)",
      "Cell \u001b[1;32mIn[10], line 16\u001b[0m\n\u001b[0;32m     11\u001b[0m     credit_score \u001b[38;5;241m=\u001b[39m row[\u001b[38;5;124m'\u001b[39m\u001b[38;5;124mCredit Score\u001b[39m\u001b[38;5;124m'\u001b[39m]\n\u001b[0;32m     14\u001b[0m     \u001b[38;5;28;01mreturn\u001b[39;00m risk_score\n\u001b[1;32m---> 16\u001b[0m borrower_data \u001b[38;5;241m=\u001b[39m \u001b[43mpd\u001b[49m\u001b[38;5;241;43m.\u001b[39;49m\u001b[43mread_csv\u001b[49m\u001b[43m(\u001b[49m\u001b[38;5;124;43m\"\u001b[39;49m\u001b[38;5;124;43mborrower_data.csv\u001b[39;49m\u001b[38;5;124;43m\"\u001b[39;49m\u001b[43m)\u001b[49m  \n\u001b[0;32m     18\u001b[0m \u001b[38;5;66;03m# Calculate risk scores for all borrowers\u001b[39;00m\n\u001b[0;32m     19\u001b[0m borrower_data[\u001b[38;5;124m'\u001b[39m\u001b[38;5;124mRisk Score\u001b[39m\u001b[38;5;124m'\u001b[39m] \u001b[38;5;241m=\u001b[39m borrower_data\u001b[38;5;241m.\u001b[39mapply(calculate_risk_score, axis\u001b[38;5;241m=\u001b[39m\u001b[38;5;241m1\u001b[39m)\n",
      "File \u001b[1;32m~\\AppData\\Local\\Programs\\Python\\Python312\\Lib\\site-packages\\pandas\\io\\parsers\\readers.py:1026\u001b[0m, in \u001b[0;36mread_csv\u001b[1;34m(filepath_or_buffer, sep, delimiter, header, names, index_col, usecols, dtype, engine, converters, true_values, false_values, skipinitialspace, skiprows, skipfooter, nrows, na_values, keep_default_na, na_filter, verbose, skip_blank_lines, parse_dates, infer_datetime_format, keep_date_col, date_parser, date_format, dayfirst, cache_dates, iterator, chunksize, compression, thousands, decimal, lineterminator, quotechar, quoting, doublequote, escapechar, comment, encoding, encoding_errors, dialect, on_bad_lines, delim_whitespace, low_memory, memory_map, float_precision, storage_options, dtype_backend)\u001b[0m\n\u001b[0;32m   1013\u001b[0m kwds_defaults \u001b[38;5;241m=\u001b[39m _refine_defaults_read(\n\u001b[0;32m   1014\u001b[0m     dialect,\n\u001b[0;32m   1015\u001b[0m     delimiter,\n\u001b[1;32m   (...)\u001b[0m\n\u001b[0;32m   1022\u001b[0m     dtype_backend\u001b[38;5;241m=\u001b[39mdtype_backend,\n\u001b[0;32m   1023\u001b[0m )\n\u001b[0;32m   1024\u001b[0m kwds\u001b[38;5;241m.\u001b[39mupdate(kwds_defaults)\n\u001b[1;32m-> 1026\u001b[0m \u001b[38;5;28;01mreturn\u001b[39;00m \u001b[43m_read\u001b[49m\u001b[43m(\u001b[49m\u001b[43mfilepath_or_buffer\u001b[49m\u001b[43m,\u001b[49m\u001b[43m \u001b[49m\u001b[43mkwds\u001b[49m\u001b[43m)\u001b[49m\n",
      "File \u001b[1;32m~\\AppData\\Local\\Programs\\Python\\Python312\\Lib\\site-packages\\pandas\\io\\parsers\\readers.py:620\u001b[0m, in \u001b[0;36m_read\u001b[1;34m(filepath_or_buffer, kwds)\u001b[0m\n\u001b[0;32m    617\u001b[0m _validate_names(kwds\u001b[38;5;241m.\u001b[39mget(\u001b[38;5;124m\"\u001b[39m\u001b[38;5;124mnames\u001b[39m\u001b[38;5;124m\"\u001b[39m, \u001b[38;5;28;01mNone\u001b[39;00m))\n\u001b[0;32m    619\u001b[0m \u001b[38;5;66;03m# Create the parser.\u001b[39;00m\n\u001b[1;32m--> 620\u001b[0m parser \u001b[38;5;241m=\u001b[39m \u001b[43mTextFileReader\u001b[49m\u001b[43m(\u001b[49m\u001b[43mfilepath_or_buffer\u001b[49m\u001b[43m,\u001b[49m\u001b[43m \u001b[49m\u001b[38;5;241;43m*\u001b[39;49m\u001b[38;5;241;43m*\u001b[39;49m\u001b[43mkwds\u001b[49m\u001b[43m)\u001b[49m\n\u001b[0;32m    622\u001b[0m \u001b[38;5;28;01mif\u001b[39;00m chunksize \u001b[38;5;129;01mor\u001b[39;00m iterator:\n\u001b[0;32m    623\u001b[0m     \u001b[38;5;28;01mreturn\u001b[39;00m parser\n",
      "File \u001b[1;32m~\\AppData\\Local\\Programs\\Python\\Python312\\Lib\\site-packages\\pandas\\io\\parsers\\readers.py:1620\u001b[0m, in \u001b[0;36mTextFileReader.__init__\u001b[1;34m(self, f, engine, **kwds)\u001b[0m\n\u001b[0;32m   1617\u001b[0m     \u001b[38;5;28mself\u001b[39m\u001b[38;5;241m.\u001b[39moptions[\u001b[38;5;124m\"\u001b[39m\u001b[38;5;124mhas_index_names\u001b[39m\u001b[38;5;124m\"\u001b[39m] \u001b[38;5;241m=\u001b[39m kwds[\u001b[38;5;124m\"\u001b[39m\u001b[38;5;124mhas_index_names\u001b[39m\u001b[38;5;124m\"\u001b[39m]\n\u001b[0;32m   1619\u001b[0m \u001b[38;5;28mself\u001b[39m\u001b[38;5;241m.\u001b[39mhandles: IOHandles \u001b[38;5;241m|\u001b[39m \u001b[38;5;28;01mNone\u001b[39;00m \u001b[38;5;241m=\u001b[39m \u001b[38;5;28;01mNone\u001b[39;00m\n\u001b[1;32m-> 1620\u001b[0m \u001b[38;5;28mself\u001b[39m\u001b[38;5;241m.\u001b[39m_engine \u001b[38;5;241m=\u001b[39m \u001b[38;5;28;43mself\u001b[39;49m\u001b[38;5;241;43m.\u001b[39;49m\u001b[43m_make_engine\u001b[49m\u001b[43m(\u001b[49m\u001b[43mf\u001b[49m\u001b[43m,\u001b[49m\u001b[43m \u001b[49m\u001b[38;5;28;43mself\u001b[39;49m\u001b[38;5;241;43m.\u001b[39;49m\u001b[43mengine\u001b[49m\u001b[43m)\u001b[49m\n",
      "File \u001b[1;32m~\\AppData\\Local\\Programs\\Python\\Python312\\Lib\\site-packages\\pandas\\io\\parsers\\readers.py:1880\u001b[0m, in \u001b[0;36mTextFileReader._make_engine\u001b[1;34m(self, f, engine)\u001b[0m\n\u001b[0;32m   1878\u001b[0m     \u001b[38;5;28;01mif\u001b[39;00m \u001b[38;5;124m\"\u001b[39m\u001b[38;5;124mb\u001b[39m\u001b[38;5;124m\"\u001b[39m \u001b[38;5;129;01mnot\u001b[39;00m \u001b[38;5;129;01min\u001b[39;00m mode:\n\u001b[0;32m   1879\u001b[0m         mode \u001b[38;5;241m+\u001b[39m\u001b[38;5;241m=\u001b[39m \u001b[38;5;124m\"\u001b[39m\u001b[38;5;124mb\u001b[39m\u001b[38;5;124m\"\u001b[39m\n\u001b[1;32m-> 1880\u001b[0m \u001b[38;5;28mself\u001b[39m\u001b[38;5;241m.\u001b[39mhandles \u001b[38;5;241m=\u001b[39m \u001b[43mget_handle\u001b[49m\u001b[43m(\u001b[49m\n\u001b[0;32m   1881\u001b[0m \u001b[43m    \u001b[49m\u001b[43mf\u001b[49m\u001b[43m,\u001b[49m\n\u001b[0;32m   1882\u001b[0m \u001b[43m    \u001b[49m\u001b[43mmode\u001b[49m\u001b[43m,\u001b[49m\n\u001b[0;32m   1883\u001b[0m \u001b[43m    \u001b[49m\u001b[43mencoding\u001b[49m\u001b[38;5;241;43m=\u001b[39;49m\u001b[38;5;28;43mself\u001b[39;49m\u001b[38;5;241;43m.\u001b[39;49m\u001b[43moptions\u001b[49m\u001b[38;5;241;43m.\u001b[39;49m\u001b[43mget\u001b[49m\u001b[43m(\u001b[49m\u001b[38;5;124;43m\"\u001b[39;49m\u001b[38;5;124;43mencoding\u001b[39;49m\u001b[38;5;124;43m\"\u001b[39;49m\u001b[43m,\u001b[49m\u001b[43m \u001b[49m\u001b[38;5;28;43;01mNone\u001b[39;49;00m\u001b[43m)\u001b[49m\u001b[43m,\u001b[49m\n\u001b[0;32m   1884\u001b[0m \u001b[43m    \u001b[49m\u001b[43mcompression\u001b[49m\u001b[38;5;241;43m=\u001b[39;49m\u001b[38;5;28;43mself\u001b[39;49m\u001b[38;5;241;43m.\u001b[39;49m\u001b[43moptions\u001b[49m\u001b[38;5;241;43m.\u001b[39;49m\u001b[43mget\u001b[49m\u001b[43m(\u001b[49m\u001b[38;5;124;43m\"\u001b[39;49m\u001b[38;5;124;43mcompression\u001b[39;49m\u001b[38;5;124;43m\"\u001b[39;49m\u001b[43m,\u001b[49m\u001b[43m \u001b[49m\u001b[38;5;28;43;01mNone\u001b[39;49;00m\u001b[43m)\u001b[49m\u001b[43m,\u001b[49m\n\u001b[0;32m   1885\u001b[0m \u001b[43m    \u001b[49m\u001b[43mmemory_map\u001b[49m\u001b[38;5;241;43m=\u001b[39;49m\u001b[38;5;28;43mself\u001b[39;49m\u001b[38;5;241;43m.\u001b[39;49m\u001b[43moptions\u001b[49m\u001b[38;5;241;43m.\u001b[39;49m\u001b[43mget\u001b[49m\u001b[43m(\u001b[49m\u001b[38;5;124;43m\"\u001b[39;49m\u001b[38;5;124;43mmemory_map\u001b[39;49m\u001b[38;5;124;43m\"\u001b[39;49m\u001b[43m,\u001b[49m\u001b[43m \u001b[49m\u001b[38;5;28;43;01mFalse\u001b[39;49;00m\u001b[43m)\u001b[49m\u001b[43m,\u001b[49m\n\u001b[0;32m   1886\u001b[0m \u001b[43m    \u001b[49m\u001b[43mis_text\u001b[49m\u001b[38;5;241;43m=\u001b[39;49m\u001b[43mis_text\u001b[49m\u001b[43m,\u001b[49m\n\u001b[0;32m   1887\u001b[0m \u001b[43m    \u001b[49m\u001b[43merrors\u001b[49m\u001b[38;5;241;43m=\u001b[39;49m\u001b[38;5;28;43mself\u001b[39;49m\u001b[38;5;241;43m.\u001b[39;49m\u001b[43moptions\u001b[49m\u001b[38;5;241;43m.\u001b[39;49m\u001b[43mget\u001b[49m\u001b[43m(\u001b[49m\u001b[38;5;124;43m\"\u001b[39;49m\u001b[38;5;124;43mencoding_errors\u001b[39;49m\u001b[38;5;124;43m\"\u001b[39;49m\u001b[43m,\u001b[49m\u001b[43m \u001b[49m\u001b[38;5;124;43m\"\u001b[39;49m\u001b[38;5;124;43mstrict\u001b[39;49m\u001b[38;5;124;43m\"\u001b[39;49m\u001b[43m)\u001b[49m\u001b[43m,\u001b[49m\n\u001b[0;32m   1888\u001b[0m \u001b[43m    \u001b[49m\u001b[43mstorage_options\u001b[49m\u001b[38;5;241;43m=\u001b[39;49m\u001b[38;5;28;43mself\u001b[39;49m\u001b[38;5;241;43m.\u001b[39;49m\u001b[43moptions\u001b[49m\u001b[38;5;241;43m.\u001b[39;49m\u001b[43mget\u001b[49m\u001b[43m(\u001b[49m\u001b[38;5;124;43m\"\u001b[39;49m\u001b[38;5;124;43mstorage_options\u001b[39;49m\u001b[38;5;124;43m\"\u001b[39;49m\u001b[43m,\u001b[49m\u001b[43m \u001b[49m\u001b[38;5;28;43;01mNone\u001b[39;49;00m\u001b[43m)\u001b[49m\u001b[43m,\u001b[49m\n\u001b[0;32m   1889\u001b[0m \u001b[43m\u001b[49m\u001b[43m)\u001b[49m\n\u001b[0;32m   1890\u001b[0m \u001b[38;5;28;01massert\u001b[39;00m \u001b[38;5;28mself\u001b[39m\u001b[38;5;241m.\u001b[39mhandles \u001b[38;5;129;01mis\u001b[39;00m \u001b[38;5;129;01mnot\u001b[39;00m \u001b[38;5;28;01mNone\u001b[39;00m\n\u001b[0;32m   1891\u001b[0m f \u001b[38;5;241m=\u001b[39m \u001b[38;5;28mself\u001b[39m\u001b[38;5;241m.\u001b[39mhandles\u001b[38;5;241m.\u001b[39mhandle\n",
      "File \u001b[1;32m~\\AppData\\Local\\Programs\\Python\\Python312\\Lib\\site-packages\\pandas\\io\\common.py:873\u001b[0m, in \u001b[0;36mget_handle\u001b[1;34m(path_or_buf, mode, encoding, compression, memory_map, is_text, errors, storage_options)\u001b[0m\n\u001b[0;32m    868\u001b[0m \u001b[38;5;28;01melif\u001b[39;00m \u001b[38;5;28misinstance\u001b[39m(handle, \u001b[38;5;28mstr\u001b[39m):\n\u001b[0;32m    869\u001b[0m     \u001b[38;5;66;03m# Check whether the filename is to be opened in binary mode.\u001b[39;00m\n\u001b[0;32m    870\u001b[0m     \u001b[38;5;66;03m# Binary mode does not support 'encoding' and 'newline'.\u001b[39;00m\n\u001b[0;32m    871\u001b[0m     \u001b[38;5;28;01mif\u001b[39;00m ioargs\u001b[38;5;241m.\u001b[39mencoding \u001b[38;5;129;01mand\u001b[39;00m \u001b[38;5;124m\"\u001b[39m\u001b[38;5;124mb\u001b[39m\u001b[38;5;124m\"\u001b[39m \u001b[38;5;129;01mnot\u001b[39;00m \u001b[38;5;129;01min\u001b[39;00m ioargs\u001b[38;5;241m.\u001b[39mmode:\n\u001b[0;32m    872\u001b[0m         \u001b[38;5;66;03m# Encoding\u001b[39;00m\n\u001b[1;32m--> 873\u001b[0m         handle \u001b[38;5;241m=\u001b[39m \u001b[38;5;28;43mopen\u001b[39;49m\u001b[43m(\u001b[49m\n\u001b[0;32m    874\u001b[0m \u001b[43m            \u001b[49m\u001b[43mhandle\u001b[49m\u001b[43m,\u001b[49m\n\u001b[0;32m    875\u001b[0m \u001b[43m            \u001b[49m\u001b[43mioargs\u001b[49m\u001b[38;5;241;43m.\u001b[39;49m\u001b[43mmode\u001b[49m\u001b[43m,\u001b[49m\n\u001b[0;32m    876\u001b[0m \u001b[43m            \u001b[49m\u001b[43mencoding\u001b[49m\u001b[38;5;241;43m=\u001b[39;49m\u001b[43mioargs\u001b[49m\u001b[38;5;241;43m.\u001b[39;49m\u001b[43mencoding\u001b[49m\u001b[43m,\u001b[49m\n\u001b[0;32m    877\u001b[0m \u001b[43m            \u001b[49m\u001b[43merrors\u001b[49m\u001b[38;5;241;43m=\u001b[39;49m\u001b[43merrors\u001b[49m\u001b[43m,\u001b[49m\n\u001b[0;32m    878\u001b[0m \u001b[43m            \u001b[49m\u001b[43mnewline\u001b[49m\u001b[38;5;241;43m=\u001b[39;49m\u001b[38;5;124;43m\"\u001b[39;49m\u001b[38;5;124;43m\"\u001b[39;49m\u001b[43m,\u001b[49m\n\u001b[0;32m    879\u001b[0m \u001b[43m        \u001b[49m\u001b[43m)\u001b[49m\n\u001b[0;32m    880\u001b[0m     \u001b[38;5;28;01melse\u001b[39;00m:\n\u001b[0;32m    881\u001b[0m         \u001b[38;5;66;03m# Binary mode\u001b[39;00m\n\u001b[0;32m    882\u001b[0m         handle \u001b[38;5;241m=\u001b[39m \u001b[38;5;28mopen\u001b[39m(handle, ioargs\u001b[38;5;241m.\u001b[39mmode)\n",
      "\u001b[1;31mFileNotFoundError\u001b[0m: [Errno 2] No such file or directory: 'borrower_data.csv'"
     ]
    }
   ],
   "source": [
    "import pandas as pd \n",
    "\n",
    "def calculate_risk_score(row):\n",
    "\n",
    "\n",
    " \n",
    "    payment_history = row['Payment History']\n",
    "    outstanding_debt_amount = row['Outstanding Debt Amount']\n",
    "    income_level = row['Income Level']\n",
    "    employment_status = row['Employment Status']\n",
    "    credit_score = row['Credit Score']\n",
    "\n",
    "\n",
    "    return risk_score\n",
    "\n",
    "borrower_data = pd.read_csv(\"borrower_data.csv\")  \n",
    "\n",
    "# Calculate risk scores for all borrowers\n",
    "borrower_data['Risk Score'] = borrower_data.apply(calculate_risk_score, axis=1)\n",
    "\n",
    "# Rank borrowers based on risk score (if needed)\n",
    "borrower_data = borrower_data.sort_values('Risk Score', ascending=False)\n",
    "\n",
    "# Output the results in the desired format\n",
    "print(borrower_data)\n"
   ]
  },
  {
   "cell_type": "code",
   "execution_count": null,
   "id": "9d671915-a7f5-4d72-9832-f0e94db9b2e0",
   "metadata": {},
   "outputs": [],
   "source": []
  }
 ],
 "metadata": {
  "kernelspec": {
   "display_name": "Python 3 (ipykernel)",
   "language": "python",
   "name": "python3"
  },
  "language_info": {
   "codemirror_mode": {
    "name": "ipython",
    "version": 3
   },
   "file_extension": ".py",
   "mimetype": "text/x-python",
   "name": "python",
   "nbconvert_exporter": "python",
   "pygments_lexer": "ipython3",
   "version": "3.12.4"
  }
 },
 "nbformat": 4,
 "nbformat_minor": 5
}
